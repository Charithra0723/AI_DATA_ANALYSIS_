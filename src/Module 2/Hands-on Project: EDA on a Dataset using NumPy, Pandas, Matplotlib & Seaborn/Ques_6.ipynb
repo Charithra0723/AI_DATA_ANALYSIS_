{
 "cells": [
  {
   "cell_type": "code",
   "execution_count": 2,
   "metadata": {},
   "outputs": [],
   "source": [
    "# Title: Correlation Analysis\n",
    "# Description: Find the correlation between different features and visualize using a heatmap.\n",
    "import seaborn as sns\n",
    "import matplotlib.pyplot as plt\n",
    "import pandas as pd\n",
    "def plot_corre(data):\n",
    "    numeric_data=data.select_dtypes(include=['number'])\n",
    "    if numeric_data.empty:\n",
    "        print(\"No numeric columns found for correlation\")\n",
    "        return\n",
    "    correlation_matrix=numeric_data.corr()\n",
    "\n",
    "    plt.figure(figsize=(10,8))\n",
    "    sns.heatmap(correlation_matrix, annot=True, fmt='2f', cmap=\"coolwarm\",square=True)\n",
    "    plt.title(\"Feature correlation matrix\")\n",
    "    plt.show()\n",
    "\n",
    "try:\n",
    "    df=sns.load_dataset('iris')\n",
    "    if df.empty:\n",
    "        raise ValueError(\"Loaded dataset is empty\")\n",
    "    \n",
    "\n",
    "except Exception as e:\n",
    "    print(f\"Error loading or processing dataset: {e}\")\n"
   ]
  }
 ],
 "metadata": {
  "kernelspec": {
   "display_name": "Python 3",
   "language": "python",
   "name": "python3"
  },
  "language_info": {
   "codemirror_mode": {
    "name": "ipython",
    "version": 3
   },
   "file_extension": ".py",
   "mimetype": "text/x-python",
   "name": "python",
   "nbconvert_exporter": "python",
   "pygments_lexer": "ipython3",
   "version": "3.10.12"
  }
 },
 "nbformat": 4,
 "nbformat_minor": 2
}
