{
 "cells": [
  {
   "cell_type": "code",
   "execution_count": 3,
   "metadata": {},
   "outputs": [
    {
     "name": "stdout",
     "output_type": "stream",
     "text": [
      "\n",
      "Grouped and aggregated data by 'species':\n",
      "\n",
      "            sepal_length  sepal_width  petal_length  petal_width\n",
      "species                                                         \n",
      "setosa             5.006        3.428         1.462        0.246\n",
      "versicolor         5.936        2.770         4.260        1.326\n",
      "virginica          6.588        2.974         5.552        2.026\n"
     ]
    }
   ],
   "source": [
    "# Title: Group and Aggregate Data\n",
    "# Description: Group the data\n",
    "# set by species (target) and compute the average of each feature.\n",
    "import seaborn as sns\n",
    "import pandas as pd\n",
    "def group_aggregate(data, group_by_col):\n",
    "    try:\n",
    "        if group_by_col not in data.columns:\n",
    "            raise ValueError(f\"column '{group_by_col}' not found in dataset\")\n",
    "        grouped_data=data.groupby(group_by_col).mean()\n",
    "        if grouped_data.empty:\n",
    "            raise ValueError(\"The resulting group is empty\")\n",
    "        print(f\"\\nGrouped and aggregated data by '{group_by_col}':\\n\")\n",
    "        print(grouped_data)\n",
    "        return grouped_data\n",
    "    except Exception as e:\n",
    "        print(f\"Error during grouping and aggregation: {e}\")\n",
    "        return None\n",
    "try:\n",
    "    df=sns.load_dataset('iris')\n",
    "    if df.empty:\n",
    "        raise ValueError(\"Loaded datset is empty\")\n",
    "    grouped_df=group_aggregate(df, 'species')\n",
    "except Exception as e:\n",
    "    print(f\"Error loading or processing :{e}\")"
   ]
  }
 ],
 "metadata": {
  "kernelspec": {
   "display_name": "Python 3",
   "language": "python",
   "name": "python3"
  },
  "language_info": {
   "codemirror_mode": {
    "name": "ipython",
    "version": 3
   },
   "file_extension": ".py",
   "mimetype": "text/x-python",
   "name": "python",
   "nbconvert_exporter": "python",
   "pygments_lexer": "ipython3",
   "version": "3.10.12"
  }
 },
 "nbformat": 4,
 "nbformat_minor": 2
}
