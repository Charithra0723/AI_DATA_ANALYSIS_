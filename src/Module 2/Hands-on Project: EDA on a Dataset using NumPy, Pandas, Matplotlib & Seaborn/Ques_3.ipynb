{
 "cells": [
  {
   "cell_type": "code",
   "execution_count": 5,
   "metadata": {},
   "outputs": [],
   "source": [
    "# Title: Data Manipulation with Pandas\n",
    "# Description: Add a new column that calculates the ratio of petal length to petal width.\n",
    "\n",
    "import pandas as pd\n",
    "import numpy as np\n",
    "from sklearn.datasets import load_iris\n",
    "\n",
    "def add_petal_ratio_column(df, length_col='petal_length', width_col='petal_width', ratio_col='petal_ratio'):\n",
    "    \n",
    "    if length_col not in df.columns or width_col not in df.columns:\n",
    "        raise KeyError(f\"Columns '{length_col}' and/or '{width_col}' not found in DataFrame.\")\n",
    "\n",
    "    \n",
    "    if not pd.api.types.is_numeric_dtype(df[length_col]) or not pd.api.types.is_numeric_dtype(df[width_col]):\n",
    "        raise TypeError(\"Both input columns must contain numeric data.\")\n",
    "\n",
    "    \n",
    "    width_safe = df[width_col].replace(0, np.nan)\n",
    "    df[ratio_col] = df[length_col] / width_safe\n",
    "\n",
    "    return df\n",
    "\n"
   ]
  }
 ],
 "metadata": {
  "kernelspec": {
   "display_name": "Python 3",
   "language": "python",
   "name": "python3"
  },
  "language_info": {
   "codemirror_mode": {
    "name": "ipython",
    "version": 3
   },
   "file_extension": ".py",
   "mimetype": "text/x-python",
   "name": "python",
   "nbconvert_exporter": "python",
   "pygments_lexer": "ipython3",
   "version": "3.10.12"
  }
 },
 "nbformat": 4,
 "nbformat_minor": 2
}
