{
 "cells": [
  {
   "cell_type": "code",
   "execution_count": 7,
   "metadata": {},
   "outputs": [
    {
     "name": "stdout",
     "output_type": "stream",
     "text": [
      "Error loading or processing dataset: module 'seaborn' has no attribute 'load_datasets'\n"
     ]
    }
   ],
   "source": [
    "# Title: Data Cleaning using Pandas\n",
    "# Description: Check for missing values and handle them by imputing the median.\n",
    "import matplotlib as plt\n",
    "import seaborn as sns\n",
    "def handling_missing(data):\n",
    "    missing=data.isnull().sum()\n",
    "    print(\"Missing values per column:\\n\",missing)\n",
    "\n",
    "    numeric_cols=data.select_dtypes(include=['number']).columns\n",
    "    for col in numeric_cols:\n",
    "        if data[col].isnull().any():\n",
    "            median_val=data[col].median()\n",
    "            print(f\"Imputing missing value in '{col}' with median: {median_val}\")\n",
    "            data[col].fillna(median_val,inplace=True)\n",
    "    return data\n",
    "\n",
    "try:\n",
    "    df=sns.load_datasets('iris')\n",
    "    if df.empty:\n",
    "        raise ValueError(\"Loaded dataset is empty\")\n",
    "    df=handling_missing(df,'sepal_length')\n",
    "    \n",
    "except Exception as e:\n",
    "    print(f\"Error loading or processing dataset: {e}\")"
   ]
  }
 ],
 "metadata": {
  "kernelspec": {
   "display_name": "Python 3",
   "language": "python",
   "name": "python3"
  },
  "language_info": {
   "codemirror_mode": {
    "name": "ipython",
    "version": 3
   },
   "file_extension": ".py",
   "mimetype": "text/x-python",
   "name": "python",
   "nbconvert_exporter": "python",
   "pygments_lexer": "ipython3",
   "version": "3.10.12"
  }
 },
 "nbformat": 4,
 "nbformat_minor": 2
}
