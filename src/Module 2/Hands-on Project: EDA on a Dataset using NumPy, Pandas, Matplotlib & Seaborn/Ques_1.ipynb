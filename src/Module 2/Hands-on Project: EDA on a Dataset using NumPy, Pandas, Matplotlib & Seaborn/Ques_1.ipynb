{
 "cells": [
  {
   "cell_type": "code",
   "execution_count": 3,
   "metadata": {},
   "outputs": [
    {
     "name": "stdout",
     "output_type": "stream",
     "text": [
      "     0    1    2    3\n",
      "0  5.1  3.5  1.4  0.2\n",
      "1  4.9  3.0  1.4  0.2\n",
      "2  4.7  3.2  1.3  0.2\n",
      "3  4.6  3.1  1.5  0.2\n",
      "4  5.0  3.6  1.4  0.2\n",
      "0    float64\n",
      "1    float64\n",
      "2    float64\n",
      "3    float64\n",
      "dtype: object\n"
     ]
    }
   ],
   "source": [
    "# Title: Load & Examine a Basic Dataset\n",
    "# Description: Load an example dataset such as the Iris dataset and perform basic exploration.\n",
    "import pandas as pd\n",
    "from sklearn.datasets import load_iris\n",
    "iris=load_iris()\n",
    "df=pd.DataFrame(iris.data)\n",
    "print(df.head())\n",
    "\n",
    "print(df.dtypes)"
   ]
  }
 ],
 "metadata": {
  "kernelspec": {
   "display_name": "Python 3",
   "language": "python",
   "name": "python3"
  },
  "language_info": {
   "codemirror_mode": {
    "name": "ipython",
    "version": 3
   },
   "file_extension": ".py",
   "mimetype": "text/x-python",
   "name": "python",
   "nbconvert_exporter": "python",
   "pygments_lexer": "ipython3",
   "version": "3.10.12"
  }
 },
 "nbformat": 4,
 "nbformat_minor": 2
}
