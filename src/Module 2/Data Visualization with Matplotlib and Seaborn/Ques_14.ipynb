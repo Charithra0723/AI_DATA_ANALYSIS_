{
 "cells": [
  {
   "cell_type": "code",
   "execution_count": 10,
   "metadata": {},
   "outputs": [],
   "source": [
    "# Styling with Matplotlib - Line Plot\n",
    "# Objective: Create a line plot with customized styles using Matplotlib.\n",
    "import matplotlib.pyplot as plt\n",
    "year=[2016,2017,2018,2019,2020,2021]\n",
    "sales=[200,150,390,480,250,720]\n",
    "def dataplot(year,sales):\n",
    "    assert len(year)==len(sales)\n",
    "    plt.plot(year,sales,color='cyan',linestyle='--',marker='o',linewidth=0.6,markersize=4,label='Sales of overall year')\n",
    "    plt.title('Company Sales')\n",
    "    plt.xlabel('Year')\n",
    "    plt.ylabel('Sales')\n",
    "    plt.grid(True,linestyle=':')\n",
    "    plt.show()"
   ]
  }
 ],
 "metadata": {
  "kernelspec": {
   "display_name": "Python 3",
   "language": "python",
   "name": "python3"
  },
  "language_info": {
   "codemirror_mode": {
    "name": "ipython",
    "version": 3
   },
   "file_extension": ".py",
   "mimetype": "text/x-python",
   "name": "python",
   "nbconvert_exporter": "python",
   "pygments_lexer": "ipython3",
   "version": "3.10.12"
  }
 },
 "nbformat": 4,
 "nbformat_minor": 2
}
