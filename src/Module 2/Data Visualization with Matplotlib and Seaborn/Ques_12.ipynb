{
 "cells": [
  {
   "cell_type": "code",
   "execution_count": null,
   "metadata": {},
   "outputs": [],
   "source": [
    "# Advanced Seaborn Plot - Pairplot\n",
    "# Objective: Use Seaborn to create a pairplot to visualize pairwise relationships in a dataset.\n",
    "import seaborn as sns\n",
    "import matplotlib.pyplot as plt\n",
    "data=sns.load_dataset('iris')\n",
    "if data.isnull().values.any():\n",
    "    raise ValueError(\"Data set is missing\")\n",
    "else:\n",
    "    sns.pairplot(data,hue='species',diag_kind='kde',markers=['o','s','D'])\n",
    "    plt.show()"
   ]
  }
 ],
 "metadata": {
  "kernelspec": {
   "display_name": "Python 3",
   "language": "python",
   "name": "python3"
  },
  "language_info": {
   "codemirror_mode": {
    "name": "ipython",
    "version": 3
   },
   "file_extension": ".py",
   "mimetype": "text/x-python",
   "name": "python",
   "nbconvert_exporter": "python",
   "pygments_lexer": "ipython3",
   "version": "3.10.12"
  }
 },
 "nbformat": 4,
 "nbformat_minor": 2
}
